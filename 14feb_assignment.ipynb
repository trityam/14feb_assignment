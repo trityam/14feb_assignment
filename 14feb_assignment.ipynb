{
 "cells": [
  {
   "cell_type": "code",
   "execution_count": 2,
   "id": "747214c2-c83d-4463-b3b7-88907d5bde6a",
   "metadata": {},
   "outputs": [
    {
     "data": {
      "text/plain": [
       "False"
      ]
     },
     "execution_count": 2,
     "metadata": {},
     "output_type": "execute_result"
    }
   ],
   "source": [
    "#1.ans:\n",
    "*Multithreading is defined as the ability of a processor to execute multiple threads concurrently.In a simple, \n",
    "single-core CPU, it is achieved using frequent switching between threads. \n",
    "\n",
    "   * What Is Multithreading Used For?\n",
    "The main reason for incorporating threads into an application is to improve its performance. Performance \n",
    "can be expressed in multiple ways:\n",
    "\n",
    "A web server will utilize multiple threads to simultaneous process requests for data at the same time.\n",
    "An image analysis algorithm will spawn multiple threads at a time and segment an image into quadrants to apply \n",
    "filtering to the image.\n",
    "A ray-tracing application will launch multiple threads to compute the visual effects while the main GUI thread \n",
    "draws the final results.\n",
    "Multithreading also leads to minimization and more efficient use of computing resources. Application responsiveness\n",
    "is improved as requests from one thread do not block requests from other threads.\n",
    "\n",
    "Additionally, multithreading is less resource-intensive than running multiple processes at the same time. There is \n",
    "much more overhead, time consumption, and management involved in creating processes as compared to creating and \n",
    "managing threads.\n",
    "\n",
    "*threading module is used for creating, controlling and managing threads in python."
   ]
  },
  {
   "cell_type": "code",
   "execution_count": null,
   "id": "10b4f157-ef7d-443a-a43e-82d28588e89b",
   "metadata": {},
   "outputs": [],
   "source": [
    "#2ans:\n",
    "* threading module is used for creating, controlling and managing threads in python\n",
    "*threading.active_count() Function\n",
    "This function returns the number of Thread objects currently alive.\n",
    "*threading.current_thread()\n",
    "This function will return the current Thread object, corresponding to the caller's thread of control(which is in \n",
    "the control of caller currently). If the caller's thread of control was not created through the threading module\n",
    "(for example the main thread), then a dummy thread object with limited functionality is returned.\n",
    "*This method returns a list of all Thread objects currently alive. The list includes daemonic threads(when the \n",
    "program quits, all the daemon threads associated with it are killed automatically), dummy thread objects created \n",
    "by the current thread, and the main thread.Terminated threads and threads that have not yet been started are not present in this list."
   ]
  },
  {
   "cell_type": "code",
   "execution_count": null,
   "id": "978d59c8-f3fc-4695-a3bd-b593809e1048",
   "metadata": {},
   "outputs": [],
   "source": [
    "#3.ans:\n",
    "*Python Thread.run() Method\n",
    "The Thread.run() method is an inbuilt method of the Thread class of the threading module , it is used to represent\n",
    "a thread's activity. It calls the method expressed as the target argument in the Thread object along with the \n",
    "positional and keyword arguments taken from the args and kwargs arguments, respectively. This method can also be \n",
    "overridden in the subclass.\n",
    "\n",
    "*Python Thread.start() Method\n",
    "The Thread.start() method is an inbuilt method of the Thread class of the threading module, it is used to start a \n",
    "thread's activity. This method calls the run() method internally which then executes the target method. This method\n",
    "must be called at most one time for one thread. If it is called more than once, it raises a RuntimeError.\n",
    "\n",
    "*join()\n",
    "On invoking the join() method, the calling thread gets blocked until the thread object (on which the thread is \n",
    "called) gets terminated. The thread objects can terminate under any one of the following conditions:\n",
    "Either normally.\n",
    "Through an ill-handled exception.\n",
    "Till the optional timeout occurs.\n",
    "Hence the join() method indicates wait till the thread terminates. We can also specify a timeout value to the join()\n",
    "method. In such a situation the calling thread may ask the thread to stop by sending a signal through an event \n",
    "object. The join() method can be called multiple times.\n",
    "\n",
    "*Python Thread.is_alive() Method\n",
    "The Thread.is_alive() method is an inbuilt method of the Thread class of the threading module, it is used to check \n",
    "whether that thread is alive or not, ie, it is still running or not. This method returns True before the run() \n",
    "starts until just after the run() method is executed."
   ]
  },
  {
   "cell_type": "code",
   "execution_count": 10,
   "id": "2ad4406b-75fe-440b-b3a6-79ca414b189e",
   "metadata": {},
   "outputs": [
    {
     "name": "stdout",
     "output_type": "stream",
     "text": [
      "square of the 4 is 16\n",
      "cube of the 4 is 64\n"
     ]
    }
   ],
   "source": [
    "#4.ans:\n",
    "import threading\n",
    "def square_num(n):\n",
    "    print('square of the {} is {}'.format(n,(n*n)))\n",
    "    \n",
    "def cube_num(n):\n",
    "    print('cube of the {} is {}'.format(n,(n*n*n)))\n",
    "    \n",
    "t1=threading.Thread(target=square_num,args=(4,))\n",
    "t2=threading.Thread(target=cube_num,args=(4,))\n",
    "\n",
    "t1.start()\n",
    "t2.start()\n",
    "\n",
    "t1.join()\n",
    "t2.join()"
   ]
  },
  {
   "cell_type": "code",
   "execution_count": null,
   "id": "c362a60f-fc1a-496a-9293-5bb7472fefcf",
   "metadata": {},
   "outputs": [],
   "source": [
    "#5.ans:\n",
    "advantage\n",
    "*Improved performance and concurrency\n",
    "*Simplified coding of remote procedure calls and conversations\n",
    "*Simultaneous access to multiple applications\n",
    "*Reduced number of required servers\n",
    "\n",
    "disadvantage\n",
    "*Difficulty of writing code\n",
    "*Difficulty of debugging\n",
    "*Difficulty of testing\n",
    "*Difficulty of porting existing code"
   ]
  },
  {
   "cell_type": "code",
   "execution_count": null,
   "id": "78aa40da-82f4-455c-9d07-c71b3fa2bf12",
   "metadata": {},
   "outputs": [],
   "source": [
    "#6.ans:\n",
    "Race Condition And Deadlock\n",
    "Both share some similarities, such as they both occur in multi-thread solutions and hamper device performance.\n",
    "However, both are not the same.\n",
    "\n",
    "A race condition occurs when two threads use the same variable at a given time. Deadlock exists when two threads \n",
    "seek one lock simultaneously.  \n",
    "\n",
    "This situation will stop both threads from processing or executing the functions. In racing, two tasks compete with each other and try to complete a task before each other.\n",
    "\n",
    "In a deadlock, two processes are waiting and expecting the complementary process to complete the task."
   ]
  }
 ],
 "metadata": {
  "kernelspec": {
   "display_name": "Python 3 (ipykernel)",
   "language": "python",
   "name": "python3"
  },
  "language_info": {
   "codemirror_mode": {
    "name": "ipython",
    "version": 3
   },
   "file_extension": ".py",
   "mimetype": "text/x-python",
   "name": "python",
   "nbconvert_exporter": "python",
   "pygments_lexer": "ipython3",
   "version": "3.10.8"
  }
 },
 "nbformat": 4,
 "nbformat_minor": 5
}
